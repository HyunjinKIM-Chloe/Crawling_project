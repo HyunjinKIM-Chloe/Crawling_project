{
 "cells": [
  {
   "cell_type": "code",
   "execution_count": 242,
   "metadata": {},
   "outputs": [],
   "source": [
    "import re\n",
    "import numpy as np\n",
    "import pandas as pd\n",
    "import seaborn as sns\n",
    "from sklearn.preprocessing import MinMaxScaler, RobustScaler, StandardScaler, MaxAbsScaler\n",
    "\n",
    "\n",
    "# 한글 폰트 설정\n",
    "import matplotlib.pyplot as plt\n",
    "import platform\n",
    "from matplotlib import font_manager, rc\n",
    "import matplotlib.pyplot as plt\n",
    "plt.rcParams['axes.unicode_minus'] = False\n",
    "\n",
    "if platform.system() == 'Windows':\n",
    "    path = \"c:/Windows/Fonts/malgun.ttf\"\n",
    "    font_name = font_manager.FontProperties(fname=path).get_name()\n",
    "    rc('font', family=font_name)\n",
    "elif platform.system() == 'Darwin':\n",
    "    rc('font', family='AppleGothic')\n",
    "elif platform.system() == 'Linux':\n",
    "    rc('font', family='NanumBarunGothic')\n",
    "else:\n",
    "    print('Unknown system... sorry~')"
   ]
  },
  {
   "cell_type": "code",
   "execution_count": 243,
   "metadata": {},
   "outputs": [
    {
     "data": {
      "text/plain": [
       "120983"
      ]
     },
     "execution_count": 243,
     "metadata": {},
     "output_type": "execute_result"
    }
   ],
   "source": [
    "path = \"../datas/\"\n",
    "nv_data = pd.read_csv(path+'v5_category_re.csv')\n",
    "kk_data = pd.read_csv(path+'kakao_review_cat_revised.csv', index_col=0)\n",
    "nv_data['user_info'] = nv_data['user_info'].fillna(0)\n",
    "nv_data = nv_data[nv_data['user_info'] != 0]\n",
    "nv_data['user_info'] = nv_data['user_info'].apply(lambda x: x.split('\\n')[-1])\n",
    "nv_data['visit_info'] = nv_data['visit_info'].apply(lambda x: x.split('번째')[0][-1])\n",
    "nv_data = nv_data[nv_data['star'] != 'star']\n",
    "len(nv_data)"
   ]
  },
  {
   "cell_type": "code",
   "execution_count": 244,
   "metadata": {},
   "outputs": [],
   "source": [
    "nv_data['star'] = nv_data['star'].astype('float64')\n",
    "nv_data['user_info'] = nv_data['user_info'].astype('float64')\n",
    "nv_data['visit_info'] = nv_data['visit_info'].astype('float64')\n",
    "nv_data = nv_data.drop(['addr', 'base_addr','user_name', 'visit_info'],1)\n",
    "nv_data = nv_data.rename(columns={'title': 'camp', 'highlight_review':'review', 'star':'point', 'user_info':'avg_point'})"
   ]
  },
  {
   "cell_type": "code",
   "execution_count": 245,
   "metadata": {},
   "outputs": [],
   "source": [
    "nv_data = nv_data[['camp', 'review','point', 'category', 'avg_point']]\n",
    "nv_data['point'] = nv_data['point'].astype('float64')\n",
    "nv_data['avg_point'] = nv_data['avg_point'].astype('float64')"
   ]
  },
  {
   "cell_type": "code",
   "execution_count": 246,
   "metadata": {
    "scrolled": true
   },
   "outputs": [
    {
     "data": {
      "text/html": [
       "<div>\n",
       "<style scoped>\n",
       "    .dataframe tbody tr th:only-of-type {\n",
       "        vertical-align: middle;\n",
       "    }\n",
       "\n",
       "    .dataframe tbody tr th {\n",
       "        vertical-align: top;\n",
       "    }\n",
       "\n",
       "    .dataframe thead th {\n",
       "        text-align: right;\n",
       "    }\n",
       "</style>\n",
       "<table border=\"1\" class=\"dataframe\">\n",
       "  <thead>\n",
       "    <tr style=\"text-align: right;\">\n",
       "      <th></th>\n",
       "      <th>camp</th>\n",
       "      <th>review</th>\n",
       "      <th>point</th>\n",
       "      <th>category</th>\n",
       "      <th>avg_point</th>\n",
       "    </tr>\n",
       "  </thead>\n",
       "  <tbody>\n",
       "    <tr>\n",
       "      <th>0</th>\n",
       "      <td>진달래 관광농원 캠핑장</td>\n",
       "      <td>데크가 너무 작아요</td>\n",
       "      <td>3.0</td>\n",
       "      <td>메인시설</td>\n",
       "      <td>4.3</td>\n",
       "    </tr>\n",
       "    <tr>\n",
       "      <th>1</th>\n",
       "      <td>진달래 관광농원 캠핑장</td>\n",
       "      <td>따뜻한물 잘 나와요</td>\n",
       "      <td>4.0</td>\n",
       "      <td>메인시설</td>\n",
       "      <td>5.0</td>\n",
       "    </tr>\n",
       "  </tbody>\n",
       "</table>\n",
       "</div>"
      ],
      "text/plain": [
       "           camp      review  point category  avg_point\n",
       "0  진달래 관광농원 캠핑장  데크가 너무 작아요    3.0     메인시설        4.3\n",
       "1  진달래 관광농원 캠핑장  따뜻한물 잘 나와요    4.0     메인시설        5.0"
      ]
     },
     "execution_count": 246,
     "metadata": {},
     "output_type": "execute_result"
    }
   ],
   "source": [
    "reviews_df = pd.concat([nv_data, kk_data],0)\n",
    "reviews_df.head(2)"
   ]
  },
  {
   "cell_type": "code",
   "execution_count": 247,
   "metadata": {
    "scrolled": true
   },
   "outputs": [],
   "source": [
    "# 가중치 [ point / (point / avg_point) ] * 0.01 → RobustScaler 적용\n",
    "reviews_df['weights'] = reviews_df['point'] * (reviews_df['point'] / reviews_df['avg_point'])\n",
    "reviews_df = reviews_df.reset_index(drop=True)\n",
    "\n",
    "rb = RobustScaler()\n",
    "rb_df = rb.fit_transform(reviews_df[['weights']])\n",
    "rb_df = pd.DataFrame(rb_df)"
   ]
  },
  {
   "cell_type": "code",
   "execution_count": 248,
   "metadata": {
    "scrolled": true
   },
   "outputs": [
    {
     "data": {
      "text/html": [
       "<div>\n",
       "<style scoped>\n",
       "    .dataframe tbody tr th:only-of-type {\n",
       "        vertical-align: middle;\n",
       "    }\n",
       "\n",
       "    .dataframe tbody tr th {\n",
       "        vertical-align: top;\n",
       "    }\n",
       "\n",
       "    .dataframe thead th {\n",
       "        text-align: right;\n",
       "    }\n",
       "</style>\n",
       "<table border=\"1\" class=\"dataframe\">\n",
       "  <thead>\n",
       "    <tr style=\"text-align: right;\">\n",
       "      <th></th>\n",
       "      <th>0</th>\n",
       "    </tr>\n",
       "  </thead>\n",
       "  <tbody>\n",
       "    <tr>\n",
       "      <th>count</th>\n",
       "      <td>129840.000000</td>\n",
       "    </tr>\n",
       "    <tr>\n",
       "      <th>mean</th>\n",
       "      <td>-0.368762</td>\n",
       "    </tr>\n",
       "    <tr>\n",
       "      <th>std</th>\n",
       "      <td>1.216199</td>\n",
       "    </tr>\n",
       "    <tr>\n",
       "      <th>min</th>\n",
       "      <td>-4.263409</td>\n",
       "    </tr>\n",
       "    <tr>\n",
       "      <th>25%</th>\n",
       "      <td>-0.852682</td>\n",
       "    </tr>\n",
       "    <tr>\n",
       "      <th>50%</th>\n",
       "      <td>0.000000</td>\n",
       "    </tr>\n",
       "    <tr>\n",
       "      <th>75%</th>\n",
       "      <td>0.147318</td>\n",
       "    </tr>\n",
       "    <tr>\n",
       "      <th>max</th>\n",
       "      <td>17.053634</td>\n",
       "    </tr>\n",
       "  </tbody>\n",
       "</table>\n",
       "</div>"
      ],
      "text/plain": [
       "                   0\n",
       "count  129840.000000\n",
       "mean       -0.368762\n",
       "std         1.216199\n",
       "min        -4.263409\n",
       "25%        -0.852682\n",
       "50%         0.000000\n",
       "75%         0.147318\n",
       "max        17.053634"
      ]
     },
     "execution_count": 248,
     "metadata": {},
     "output_type": "execute_result"
    }
   ],
   "source": [
    "rb_df.describe()"
   ]
  },
  {
   "cell_type": "code",
   "execution_count": 249,
   "metadata": {
    "scrolled": false
   },
   "outputs": [
    {
     "data": {
      "text/html": [
       "<div>\n",
       "<style scoped>\n",
       "    .dataframe tbody tr th:only-of-type {\n",
       "        vertical-align: middle;\n",
       "    }\n",
       "\n",
       "    .dataframe tbody tr th {\n",
       "        vertical-align: top;\n",
       "    }\n",
       "\n",
       "    .dataframe thead th {\n",
       "        text-align: right;\n",
       "    }\n",
       "</style>\n",
       "<table border=\"1\" class=\"dataframe\">\n",
       "  <thead>\n",
       "    <tr style=\"text-align: right;\">\n",
       "      <th></th>\n",
       "      <th>camp</th>\n",
       "      <th>review</th>\n",
       "      <th>point</th>\n",
       "      <th>category</th>\n",
       "      <th>avg_point</th>\n",
       "      <th>weights</th>\n",
       "      <th>weights2</th>\n",
       "      <th>final_point</th>\n",
       "    </tr>\n",
       "  </thead>\n",
       "  <tbody>\n",
       "    <tr>\n",
       "      <th>0</th>\n",
       "      <td>진달래 관광농원 캠핑장</td>\n",
       "      <td>데크가 너무 작아요</td>\n",
       "      <td>3.0</td>\n",
       "      <td>메인시설</td>\n",
       "      <td>4.3</td>\n",
       "      <td>2.093023</td>\n",
       "      <td>-0.024787</td>\n",
       "      <td>2.925638</td>\n",
       "    </tr>\n",
       "    <tr>\n",
       "      <th>1</th>\n",
       "      <td>진달래 관광농원 캠핑장</td>\n",
       "      <td>따뜻한물 잘 나와요</td>\n",
       "      <td>4.0</td>\n",
       "      <td>메인시설</td>\n",
       "      <td>5.0</td>\n",
       "      <td>3.200000</td>\n",
       "      <td>-0.015348</td>\n",
       "      <td>3.938607</td>\n",
       "    </tr>\n",
       "  </tbody>\n",
       "</table>\n",
       "</div>"
      ],
      "text/plain": [
       "           camp      review  point category  avg_point   weights  weights2  \\\n",
       "0  진달래 관광농원 캠핑장  데크가 너무 작아요    3.0     메인시설        4.3  2.093023 -0.024787   \n",
       "1  진달래 관광농원 캠핑장  따뜻한물 잘 나와요    4.0     메인시설        5.0  3.200000 -0.015348   \n",
       "\n",
       "   final_point  \n",
       "0     2.925638  \n",
       "1     3.938607  "
      ]
     },
     "execution_count": 249,
     "metadata": {},
     "output_type": "execute_result"
    }
   ],
   "source": [
    "rb_df = rb_df.rename(columns={0:'weights2'})\n",
    "rb_df['weights2'] = rb_df['weights2'] * 0.01\n",
    "\n",
    "re_df = pd.concat([reviews_df, rb_df],1)\n",
    "\n",
    "# final_point: point * (1+weights) → MinMaxScaler 적용 후 *5 (0~5 사이의 값)\n",
    "\n",
    "re_df['final_point'] = re_df['point'] * (1 + re_df['weights2'])\n",
    "re_df.head(2)"
   ]
  },
  {
   "cell_type": "code",
   "execution_count": 250,
   "metadata": {},
   "outputs": [],
   "source": [
    "mm = MinMaxScaler()\n",
    "mm_df= mm.fit_transform(re_df[['final_point']])\n",
    "mm_df = pd.DataFrame(mm_df)\n",
    "\n",
    "\n",
    "re_df['final_point'] = mm_df * 5\n",
    "re_df = re_df.drop(['weights','weights2'],1)\n",
    "re_df['final_point'] = round(re_df['final_point'],1)"
   ]
  },
  {
   "cell_type": "code",
   "execution_count": 251,
   "metadata": {},
   "outputs": [
    {
     "data": {
      "text/html": [
       "<div>\n",
       "<style scoped>\n",
       "    .dataframe tbody tr th:only-of-type {\n",
       "        vertical-align: middle;\n",
       "    }\n",
       "\n",
       "    .dataframe tbody tr th {\n",
       "        vertical-align: top;\n",
       "    }\n",
       "\n",
       "    .dataframe thead th {\n",
       "        text-align: right;\n",
       "    }\n",
       "</style>\n",
       "<table border=\"1\" class=\"dataframe\">\n",
       "  <thead>\n",
       "    <tr style=\"text-align: right;\">\n",
       "      <th></th>\n",
       "      <th>camp</th>\n",
       "      <th>review</th>\n",
       "      <th>point</th>\n",
       "      <th>category</th>\n",
       "      <th>avg_point</th>\n",
       "      <th>final_point</th>\n",
       "    </tr>\n",
       "  </thead>\n",
       "  <tbody>\n",
       "    <tr>\n",
       "      <th>0</th>\n",
       "      <td>진달래 관광농원 캠핑장</td>\n",
       "      <td>데크가 너무 작아요</td>\n",
       "      <td>3.0</td>\n",
       "      <td>메인시설</td>\n",
       "      <td>4.3</td>\n",
       "      <td>2.5</td>\n",
       "    </tr>\n",
       "    <tr>\n",
       "      <th>1</th>\n",
       "      <td>진달래 관광농원 캠핑장</td>\n",
       "      <td>따뜻한물 잘 나와요</td>\n",
       "      <td>4.0</td>\n",
       "      <td>메인시설</td>\n",
       "      <td>5.0</td>\n",
       "      <td>3.4</td>\n",
       "    </tr>\n",
       "  </tbody>\n",
       "</table>\n",
       "</div>"
      ],
      "text/plain": [
       "           camp      review  point category  avg_point  final_point\n",
       "0  진달래 관광농원 캠핑장  데크가 너무 작아요    3.0     메인시설        4.3          2.5\n",
       "1  진달래 관광농원 캠핑장  따뜻한물 잘 나와요    4.0     메인시설        5.0          3.4"
      ]
     },
     "execution_count": 251,
     "metadata": {},
     "output_type": "execute_result"
    }
   ],
   "source": [
    "re_df.head(2)"
   ]
  },
  {
   "cell_type": "code",
   "execution_count": 252,
   "metadata": {},
   "outputs": [
    {
     "data": {
      "text/html": [
       "<div>\n",
       "<style scoped>\n",
       "    .dataframe tbody tr th:only-of-type {\n",
       "        vertical-align: middle;\n",
       "    }\n",
       "\n",
       "    .dataframe tbody tr th {\n",
       "        vertical-align: top;\n",
       "    }\n",
       "\n",
       "    .dataframe thead th {\n",
       "        text-align: right;\n",
       "    }\n",
       "</style>\n",
       "<table border=\"1\" class=\"dataframe\">\n",
       "  <thead>\n",
       "    <tr style=\"text-align: right;\">\n",
       "      <th></th>\n",
       "      <th>camp</th>\n",
       "      <th>category</th>\n",
       "      <th>point</th>\n",
       "      <th>avg_point</th>\n",
       "      <th>final_point</th>\n",
       "      <th>count</th>\n",
       "    </tr>\n",
       "  </thead>\n",
       "  <tbody>\n",
       "    <tr>\n",
       "      <th>0</th>\n",
       "      <td>(주)데일리랜드</td>\n",
       "      <td>가격</td>\n",
       "      <td>5.000</td>\n",
       "      <td>4.700</td>\n",
       "      <td>4.30</td>\n",
       "      <td>1</td>\n",
       "    </tr>\n",
       "    <tr>\n",
       "      <th>1</th>\n",
       "      <td>(주)데일리랜드</td>\n",
       "      <td>만족도</td>\n",
       "      <td>4.375</td>\n",
       "      <td>4.535</td>\n",
       "      <td>3.74</td>\n",
       "      <td>20</td>\n",
       "    </tr>\n",
       "  </tbody>\n",
       "</table>\n",
       "</div>"
      ],
      "text/plain": [
       "       camp category  point  avg_point  final_point  count\n",
       "0  (주)데일리랜드       가격  5.000      4.700         4.30      1\n",
       "1  (주)데일리랜드      만족도  4.375      4.535         3.74     20"
      ]
     },
     "execution_count": 252,
     "metadata": {},
     "output_type": "execute_result"
    }
   ],
   "source": [
    "re_df2 = re_df.groupby(['camp','category']).mean().reset_index()\n",
    "re_df3 = re_df.groupby(['camp', 'category']).size().reset_index(name='count')\n",
    "re_df4 = pd.merge(re_df2, re_df3)\n",
    "re_df4.head(2)"
   ]
  },
  {
   "cell_type": "code",
   "execution_count": 222,
   "metadata": {},
   "outputs": [],
   "source": [
    "#re_df4.to_csv('review_final_point.csv', encoding='utf-8-sig', index=False)"
   ]
  },
  {
   "cell_type": "code",
   "execution_count": null,
   "metadata": {},
   "outputs": [],
   "source": []
  }
 ],
 "metadata": {
  "kernelspec": {
   "display_name": "Python 3",
   "language": "python",
   "name": "python3"
  },
  "language_info": {
   "codemirror_mode": {
    "name": "ipython",
    "version": 3
   },
   "file_extension": ".py",
   "mimetype": "text/x-python",
   "name": "python",
   "nbconvert_exporter": "python",
   "pygments_lexer": "ipython3",
   "version": "3.8.5"
  }
 },
 "nbformat": 4,
 "nbformat_minor": 4
}
